{
 "cells": [
  {
   "cell_type": "code",
   "execution_count": 2,
   "metadata": {
    "collapsed": true
   },
   "outputs": [],
   "source": [
    "sys.path.append(\"..\")\n",
    "from kedro.config import ConfigLoader"
   ]
  },
  {
   "cell_type": "code",
   "execution_count": 4,
   "outputs": [],
   "source": [
    "from src.service.twitter.user_service import UserService\n",
    "from src.service.twitter.tweet_service import TweetService\n",
    "from src.util.twitter.thread_util import ThreadUtil"
   ],
   "metadata": {
    "collapsed": false
   }
  },
  {
   "cell_type": "code",
   "execution_count": 5,
   "outputs": [],
   "source": [
    "conf_loader = ConfigLoader(\"../conf\", env=\"local\")\n",
    "bearer_token = conf_loader[\"credentials\"][\"twitter_api\"][\"authentication_tokens\"][\"bearer_token\"]\n",
    "username = \"IAmPascio\"\n"
   ],
   "metadata": {
    "collapsed": false
   }
  },
  {
   "cell_type": "code",
   "execution_count": 6,
   "outputs": [],
   "source": [
    "twitter_user = UserService(bearer_token).get_user(username)"
   ],
   "metadata": {
    "collapsed": false
   }
  },
  {
   "cell_type": "code",
   "execution_count": 7,
   "outputs": [],
   "source": [
    "tweets = TweetService(bearer_token).get_users_available_tweets(twitter_user)"
   ],
   "metadata": {
    "collapsed": false
   }
  },
  {
   "cell_type": "code",
   "execution_count": 8,
   "outputs": [],
   "source": [
    "thread_util = ThreadUtil(twitter_user, tweets)\n",
    "thread_candidates = thread_util.get_users_threads_from_api()"
   ],
   "metadata": {
    "collapsed": false
   }
  },
  {
   "cell_type": "code",
   "execution_count": 29,
   "outputs": [],
   "source": [
    "df = thread_util.convert_tweets_to_df(thread_candidates)"
   ],
   "metadata": {
    "collapsed": false
   }
  },
  {
   "cell_type": "code",
   "execution_count": 30,
   "outputs": [],
   "source": [
    "user_id = str(twitter_user.user_id)"
   ],
   "metadata": {
    "collapsed": false
   }
  },
  {
   "cell_type": "code",
   "execution_count": 31,
   "outputs": [],
   "source": [
    "df = df[(df[\"in_reply_to_user_id\"] == \"None\") | (df[\"in_reply_to_user_id\"] == user_id)]"
   ],
   "metadata": {
    "collapsed": false
   }
  },
  {
   "cell_type": "code",
   "execution_count": 32,
   "outputs": [],
   "source": [
    "df = df.set_index(\"id\")\n",
    "df['conversation_id'] = df['conversation_id'].astype(str)\n",
    "val_counts = df['conversation_id'].value_counts() > 2\n",
    "df_thread = df.iloc[df.index.isin(val_counts[val_counts==True].index)]"
   ],
   "metadata": {
    "collapsed": false
   }
  },
  {
   "cell_type": "code",
   "execution_count": 33,
   "outputs": [
    {
     "data": {
      "text/plain": "                                   created_at  \\\nid                                              \n1618881501025943553 2023-01-27 08:00:01+00:00   \n1618599199549034496 2023-01-26 13:18:15+00:00   \n1618587061602381824 2023-01-26 12:30:02+00:00   \n1618519126598897667 2023-01-26 08:00:05+00:00   \n1618247324353925121 2023-01-25 14:00:02+00:00   \n...                                       ...   \n1556996251106910208 2022-08-09 13:30:08+00:00   \n1556588576829329411 2022-08-08 10:30:11+00:00   \n1556206289470033921 2022-08-07 09:11:06+00:00   \n1555546739054092294 2022-08-05 13:30:17+00:00   \n1554459535447826435 2022-08-02 13:30:08+00:00   \n\n                                                                  text  \\\nid                                                                       \n1618881501025943553  ChatGPT is the future.\\n\\nBut most people are ...   \n1618599199549034496  The past month, I've made over $13K online sel...   \n1618587061602381824  In the last 400 days:\\n\\n→Launched +50 product...   \n1618519126598897667  Have you heard of Notion: The Game?\\n\\nWorlds ...   \n1618247324353925121  If every book caught on fire tomorrow, these a...   \n...                                                                ...   \n1556996251106910208  I'm just 24 years old and I made over $7,000 o...   \n1556588576829329411  The one app that you can't live without is ___...   \n1556206289470033921  I made $130 by sending a 6 day email sequence....   \n1555546739054092294  I got 50 paying customers in 21 days with no p...   \n1554459535447826435  My first money made online came from a $0 prod...   \n\n                     retweet_count  reply_count  like_count  quote_count  \\\nid                                                                         \n1618881501025943553           2220          199        8139           36   \n1618599199549034496              5            6          55            1   \n1618587061602381824             34           33         177            3   \n1618519126598897667             81          922         484            6   \n1618247324353925121             50           12         175            1   \n...                            ...          ...         ...          ...   \n1556996251106910208              3           11          52            1   \n1556588576829329411              1           23          12            0   \n1556206289470033921             87          125         107            2   \n1555546739054092294              6            8          56            2   \n1554459535447826435              4            9          44            3   \n\n                     impression_count  \nid                                     \n1618881501025943553            659137  \n1618599199549034496             11279  \n1618587061602381824             43594  \n1618519126598897667            111195  \n1618247324353925121             56830  \n...                               ...  \n1556996251106910208                 0  \n1556588576829329411                 0  \n1556206289470033921                 0  \n1555546739054092294                 0  \n1554459535447826435                 0  \n\n[107 rows x 7 columns]",
      "text/html": "<div>\n<style scoped>\n    .dataframe tbody tr th:only-of-type {\n        vertical-align: middle;\n    }\n\n    .dataframe tbody tr th {\n        vertical-align: top;\n    }\n\n    .dataframe thead th {\n        text-align: right;\n    }\n</style>\n<table border=\"1\" class=\"dataframe\">\n  <thead>\n    <tr style=\"text-align: right;\">\n      <th></th>\n      <th>created_at</th>\n      <th>text</th>\n      <th>retweet_count</th>\n      <th>reply_count</th>\n      <th>like_count</th>\n      <th>quote_count</th>\n      <th>impression_count</th>\n    </tr>\n    <tr>\n      <th>id</th>\n      <th></th>\n      <th></th>\n      <th></th>\n      <th></th>\n      <th></th>\n      <th></th>\n      <th></th>\n    </tr>\n  </thead>\n  <tbody>\n    <tr>\n      <th>1618881501025943553</th>\n      <td>2023-01-27 08:00:01+00:00</td>\n      <td>ChatGPT is the future.\\n\\nBut most people are ...</td>\n      <td>2220</td>\n      <td>199</td>\n      <td>8139</td>\n      <td>36</td>\n      <td>659137</td>\n    </tr>\n    <tr>\n      <th>1618599199549034496</th>\n      <td>2023-01-26 13:18:15+00:00</td>\n      <td>The past month, I've made over $13K online sel...</td>\n      <td>5</td>\n      <td>6</td>\n      <td>55</td>\n      <td>1</td>\n      <td>11279</td>\n    </tr>\n    <tr>\n      <th>1618587061602381824</th>\n      <td>2023-01-26 12:30:02+00:00</td>\n      <td>In the last 400 days:\\n\\n→Launched +50 product...</td>\n      <td>34</td>\n      <td>33</td>\n      <td>177</td>\n      <td>3</td>\n      <td>43594</td>\n    </tr>\n    <tr>\n      <th>1618519126598897667</th>\n      <td>2023-01-26 08:00:05+00:00</td>\n      <td>Have you heard of Notion: The Game?\\n\\nWorlds ...</td>\n      <td>81</td>\n      <td>922</td>\n      <td>484</td>\n      <td>6</td>\n      <td>111195</td>\n    </tr>\n    <tr>\n      <th>1618247324353925121</th>\n      <td>2023-01-25 14:00:02+00:00</td>\n      <td>If every book caught on fire tomorrow, these a...</td>\n      <td>50</td>\n      <td>12</td>\n      <td>175</td>\n      <td>1</td>\n      <td>56830</td>\n    </tr>\n    <tr>\n      <th>...</th>\n      <td>...</td>\n      <td>...</td>\n      <td>...</td>\n      <td>...</td>\n      <td>...</td>\n      <td>...</td>\n      <td>...</td>\n    </tr>\n    <tr>\n      <th>1556996251106910208</th>\n      <td>2022-08-09 13:30:08+00:00</td>\n      <td>I'm just 24 years old and I made over $7,000 o...</td>\n      <td>3</td>\n      <td>11</td>\n      <td>52</td>\n      <td>1</td>\n      <td>0</td>\n    </tr>\n    <tr>\n      <th>1556588576829329411</th>\n      <td>2022-08-08 10:30:11+00:00</td>\n      <td>The one app that you can't live without is ___...</td>\n      <td>1</td>\n      <td>23</td>\n      <td>12</td>\n      <td>0</td>\n      <td>0</td>\n    </tr>\n    <tr>\n      <th>1556206289470033921</th>\n      <td>2022-08-07 09:11:06+00:00</td>\n      <td>I made $130 by sending a 6 day email sequence....</td>\n      <td>87</td>\n      <td>125</td>\n      <td>107</td>\n      <td>2</td>\n      <td>0</td>\n    </tr>\n    <tr>\n      <th>1555546739054092294</th>\n      <td>2022-08-05 13:30:17+00:00</td>\n      <td>I got 50 paying customers in 21 days with no p...</td>\n      <td>6</td>\n      <td>8</td>\n      <td>56</td>\n      <td>2</td>\n      <td>0</td>\n    </tr>\n    <tr>\n      <th>1554459535447826435</th>\n      <td>2022-08-02 13:30:08+00:00</td>\n      <td>My first money made online came from a $0 prod...</td>\n      <td>4</td>\n      <td>9</td>\n      <td>44</td>\n      <td>3</td>\n      <td>0</td>\n    </tr>\n  </tbody>\n</table>\n<p>107 rows × 7 columns</p>\n</div>"
     },
     "execution_count": 33,
     "metadata": {},
     "output_type": "execute_result"
    }
   ],
   "source": [
    "df_thread.loc[:, [\"created_at\", \"text\", \"retweet_count\", \"reply_count\", \"like_count\", \"quote_count\", \"impression_count\"]]"
   ],
   "metadata": {
    "collapsed": false
   }
  },
  {
   "cell_type": "code",
   "execution_count": 28,
   "outputs": [],
   "source": [
    "df_thread.to_csv(\"../data/01_raw/IAmPascio_api_v2_version2.csv\", index=True)"
   ],
   "metadata": {
    "collapsed": false
   }
  },
  {
   "cell_type": "markdown",
   "source": [
    "## Premium search"
   ],
   "metadata": {
    "collapsed": false
   }
  },
  {
   "cell_type": "code",
   "execution_count": 35,
   "outputs": [],
   "source": [
    "import tweepy\n",
    "import pandas as pd\n",
    "conf_loader = ConfigLoader(\"../conf\", env=\"local\")\n",
    "consumer_key = conf_loader['credentials']['twitter_api']['consumer_keys']['api_key']\n",
    "consumer_secret = conf_loader['credentials']['twitter_api']['consumer_keys']['api_key_secret']\n",
    "access_token = conf_loader['credentials']['twitter_api']['authentication_tokens']['access_token']\n",
    "access_token_secret = conf_loader['credentials']['twitter_api']['authentication_tokens']['secret_token']"
   ],
   "metadata": {
    "collapsed": false
   }
  },
  {
   "cell_type": "code",
   "execution_count": 36,
   "outputs": [],
   "source": [
    "auth = tweepy.OAuthHandler(consumer_key, consumer_secret)\n",
    "auth.set_access_token(access_token, access_token_secret)\n",
    "api = tweepy.API(auth)"
   ],
   "metadata": {
    "collapsed": false
   }
  },
  {
   "cell_type": "code",
   "execution_count": 132,
   "outputs": [],
   "source": [
    "results = api.search_full_archive(label=\"Development\", query=\"from:IAmPascio\", fromDate=\"202207271340\", toDate=\"202208040000\", maxResults=100)"
   ],
   "metadata": {
    "collapsed": false
   }
  },
  {
   "cell_type": "code",
   "execution_count": 133,
   "outputs": [],
   "source": [
    "list_of_tweets = []\n",
    "for result in results:\n",
    "    list_of_tweets.append([str(result.id),\n",
    "                            result.created_at,\n",
    "                            result.text,\n",
    "                            str(result.in_reply_to_status_id),\n",
    "                           result.retweet_count,\n",
    "                           result.reply_count,\n",
    "                           result.favorite_count,\n",
    "                           result.quote_count, 0])"
   ],
   "metadata": {
    "collapsed": false
   }
  },
  {
   "cell_type": "code",
   "execution_count": 134,
   "outputs": [
    {
     "data": {
      "text/plain": "['1552466447347105792',\n datetime.datetime(2022, 7, 28, 1, 30, 19, tzinfo=datetime.timezone.utc),\n \"7 months ago I didn't know:\\n\\n- Twitter\\n- Creator economy\\n- Creator economy on Twitter\\n\\n7 months later:\\n\\n- Have over… https://t.co/xHMswlMrcf\",\n 'None',\n 0,\n 8,\n 27,\n 0,\n 0]"
     },
     "execution_count": 134,
     "metadata": {},
     "output_type": "execute_result"
    }
   ],
   "source": [
    "list_of_tweets[-1]"
   ],
   "metadata": {
    "collapsed": false
   }
  },
  {
   "cell_type": "code",
   "execution_count": 135,
   "outputs": [],
   "source": [
    "df = pd.DataFrame(list_of_tweets,\n",
    "                  columns=['id', 'created_at', 'text', 'in_reply_to_status_id', \"retweet_count\", \"reply_count\", \"like_count\", \"quote_count\", \"impression_count\"])"
   ],
   "metadata": {
    "collapsed": false
   }
  },
  {
   "cell_type": "code",
   "execution_count": 96,
   "outputs": [],
   "source": [
    "df.to_csv(\"../data/01_raw/tweets_api_v1_1_2022_05_14.csv\", index=False)"
   ],
   "metadata": {
    "collapsed": false
   }
  },
  {
   "cell_type": "code",
   "execution_count": 136,
   "outputs": [],
   "source": [
    "unique_ids = df['in_reply_to_status_id'].unique()"
   ],
   "metadata": {
    "collapsed": false
   }
  },
  {
   "cell_type": "code",
   "execution_count": 137,
   "outputs": [],
   "source": [
    "df = df.set_index(\"id\")"
   ],
   "metadata": {
    "collapsed": false
   }
  },
  {
   "cell_type": "code",
   "execution_count": 138,
   "outputs": [
    {
     "data": {
      "text/plain": "                                   created_at  \\\nid                                              \n1554847764542095362 2022-08-03 15:12:49+00:00   \n1554833882746236930 2022-08-03 14:17:39+00:00   \n1554821929009352704 2022-08-03 13:30:09+00:00   \n1554816407594057728 2022-08-03 13:08:13+00:00   \n1554816358084485122 2022-08-03 13:08:01+00:00   \n...                                       ...   \n1552601639210598402 2022-07-28 10:27:31+00:00   \n1552539688476590080 2022-07-28 06:21:21+00:00   \n1552539571753308161 2022-07-28 06:20:53+00:00   \n1552526865495097344 2022-07-28 05:30:23+00:00   \n1552466447347105792 2022-07-28 01:30:19+00:00   \n\n                                                                  text  \\\nid                                                                       \n1554847764542095362  @Jarodxu7 @ProductHunt Inspiring! Thanks for s...   \n1554833882746236930  @AtulACleaver People don't realize how long 15...   \n1554821929009352704  I've been on Twitter for over half a year now....   \n1554816407594057728                @productive_kid Im rooting for you!   \n1554816358084485122  @craigcherlet The first place is currently sha...   \n...                                                                ...   \n1552601639210598402  @thenotionbar @capt_nandu @NotionHQ I’m workin...   \n1552539688476590080  @RyanHeng360 Thank you Ryan! A bit cheesy, but...   \n1552539571753308161                  @AtulACleaver Appreciate it Atul🚀   \n1552526865495097344  The Stoic Bundle\\n\\nBuy a bundle of 3 Stoic te...   \n1552466447347105792  7 months ago I didn't know:\\n\\n- Twitter\\n- Cr...   \n\n                    in_reply_to_status_id  retweet_count  reply_count  \\\nid                                                                      \n1554847764542095362   1554843763092365313              0            0   \n1554833882746236930   1554830529429905408              0            0   \n1554821929009352704                  None              0            3   \n1554816407594057728   1554750480756219904              0            0   \n1554816358084485122   1554642249203519489              0            1   \n...                                   ...            ...          ...   \n1552601639210598402   1552005900008923136              1            0   \n1552539688476590080   1552469740966264834              0            1   \n1552539571753308161   1552481855907442695              0            0   \n1552526865495097344                  None              0            0   \n1552466447347105792                  None              0            8   \n\n                     like_count  quote_count  impression_count  \nid                                                              \n1554847764542095362           0            0                 0  \n1554833882746236930           0            0                 0  \n1554821929009352704          21            0                 0  \n1554816407594057728           0            0                 0  \n1554816358084485122           2            0                 0  \n...                         ...          ...               ...  \n1552601639210598402           1            0                 0  \n1552539688476590080           1            0                 0  \n1552539571753308161           2            0                 0  \n1552526865495097344           5            0                 0  \n1552466447347105792          27            0                 0  \n\n[100 rows x 8 columns]",
      "text/html": "<div>\n<style scoped>\n    .dataframe tbody tr th:only-of-type {\n        vertical-align: middle;\n    }\n\n    .dataframe tbody tr th {\n        vertical-align: top;\n    }\n\n    .dataframe thead th {\n        text-align: right;\n    }\n</style>\n<table border=\"1\" class=\"dataframe\">\n  <thead>\n    <tr style=\"text-align: right;\">\n      <th></th>\n      <th>created_at</th>\n      <th>text</th>\n      <th>in_reply_to_status_id</th>\n      <th>retweet_count</th>\n      <th>reply_count</th>\n      <th>like_count</th>\n      <th>quote_count</th>\n      <th>impression_count</th>\n    </tr>\n    <tr>\n      <th>id</th>\n      <th></th>\n      <th></th>\n      <th></th>\n      <th></th>\n      <th></th>\n      <th></th>\n      <th></th>\n      <th></th>\n    </tr>\n  </thead>\n  <tbody>\n    <tr>\n      <th>1554847764542095362</th>\n      <td>2022-08-03 15:12:49+00:00</td>\n      <td>@Jarodxu7 @ProductHunt Inspiring! Thanks for s...</td>\n      <td>1554843763092365313</td>\n      <td>0</td>\n      <td>0</td>\n      <td>0</td>\n      <td>0</td>\n      <td>0</td>\n    </tr>\n    <tr>\n      <th>1554833882746236930</th>\n      <td>2022-08-03 14:17:39+00:00</td>\n      <td>@AtulACleaver People don't realize how long 15...</td>\n      <td>1554830529429905408</td>\n      <td>0</td>\n      <td>0</td>\n      <td>0</td>\n      <td>0</td>\n      <td>0</td>\n    </tr>\n    <tr>\n      <th>1554821929009352704</th>\n      <td>2022-08-03 13:30:09+00:00</td>\n      <td>I've been on Twitter for over half a year now....</td>\n      <td>None</td>\n      <td>0</td>\n      <td>3</td>\n      <td>21</td>\n      <td>0</td>\n      <td>0</td>\n    </tr>\n    <tr>\n      <th>1554816407594057728</th>\n      <td>2022-08-03 13:08:13+00:00</td>\n      <td>@productive_kid Im rooting for you!</td>\n      <td>1554750480756219904</td>\n      <td>0</td>\n      <td>0</td>\n      <td>0</td>\n      <td>0</td>\n      <td>0</td>\n    </tr>\n    <tr>\n      <th>1554816358084485122</th>\n      <td>2022-08-03 13:08:01+00:00</td>\n      <td>@craigcherlet The first place is currently sha...</td>\n      <td>1554642249203519489</td>\n      <td>0</td>\n      <td>1</td>\n      <td>2</td>\n      <td>0</td>\n      <td>0</td>\n    </tr>\n    <tr>\n      <th>...</th>\n      <td>...</td>\n      <td>...</td>\n      <td>...</td>\n      <td>...</td>\n      <td>...</td>\n      <td>...</td>\n      <td>...</td>\n      <td>...</td>\n    </tr>\n    <tr>\n      <th>1552601639210598402</th>\n      <td>2022-07-28 10:27:31+00:00</td>\n      <td>@thenotionbar @capt_nandu @NotionHQ I’m workin...</td>\n      <td>1552005900008923136</td>\n      <td>1</td>\n      <td>0</td>\n      <td>1</td>\n      <td>0</td>\n      <td>0</td>\n    </tr>\n    <tr>\n      <th>1552539688476590080</th>\n      <td>2022-07-28 06:21:21+00:00</td>\n      <td>@RyanHeng360 Thank you Ryan! A bit cheesy, but...</td>\n      <td>1552469740966264834</td>\n      <td>0</td>\n      <td>1</td>\n      <td>1</td>\n      <td>0</td>\n      <td>0</td>\n    </tr>\n    <tr>\n      <th>1552539571753308161</th>\n      <td>2022-07-28 06:20:53+00:00</td>\n      <td>@AtulACleaver Appreciate it Atul🚀</td>\n      <td>1552481855907442695</td>\n      <td>0</td>\n      <td>0</td>\n      <td>2</td>\n      <td>0</td>\n      <td>0</td>\n    </tr>\n    <tr>\n      <th>1552526865495097344</th>\n      <td>2022-07-28 05:30:23+00:00</td>\n      <td>The Stoic Bundle\\n\\nBuy a bundle of 3 Stoic te...</td>\n      <td>None</td>\n      <td>0</td>\n      <td>0</td>\n      <td>5</td>\n      <td>0</td>\n      <td>0</td>\n    </tr>\n    <tr>\n      <th>1552466447347105792</th>\n      <td>2022-07-28 01:30:19+00:00</td>\n      <td>7 months ago I didn't know:\\n\\n- Twitter\\n- Cr...</td>\n      <td>None</td>\n      <td>0</td>\n      <td>8</td>\n      <td>27</td>\n      <td>0</td>\n      <td>0</td>\n    </tr>\n  </tbody>\n</table>\n<p>100 rows × 8 columns</p>\n</div>"
     },
     "execution_count": 138,
     "metadata": {},
     "output_type": "execute_result"
    }
   ],
   "source": [
    "df"
   ],
   "metadata": {
    "collapsed": false
   }
  },
  {
   "cell_type": "code",
   "execution_count": 139,
   "outputs": [],
   "source": [
    "df_thread = df.iloc[df.index.isin(unique_ids)]"
   ],
   "metadata": {
    "collapsed": false
   }
  },
  {
   "cell_type": "code",
   "execution_count": 140,
   "outputs": [],
   "source": [
    "df_thread = df_thread.iloc[(df_thread['in_reply_to_status_id'] == \"None\").values, :]"
   ],
   "metadata": {
    "collapsed": false
   }
  },
  {
   "cell_type": "code",
   "execution_count": 141,
   "outputs": [
    {
     "data": {
      "text/plain": "                                   created_at  \\\nid                                              \n1554459535447826435 2022-08-02 13:30:08+00:00   \n1553372406303055878 2022-07-30 13:30:16+00:00   \n1553010026033430532 2022-07-29 13:30:18+00:00   \n\n                                                                  text  \\\nid                                                                       \n1554459535447826435  My first money made online came from a $0 prod...   \n1553372406303055878  What's the best tweet you wrote this week? 👀\\n...   \n1553010026033430532  Growing on Twitter becomes easier after your f...   \n\n                    in_reply_to_status_id  retweet_count  reply_count  \\\nid                                                                      \n1554459535447826435                  None              4            9   \n1553372406303055878                  None              0            6   \n1553010026033430532                  None              1            8   \n\n                     like_count  quote_count  impression_count  \nid                                                              \n1554459535447826435          44            3                 0  \n1553372406303055878           6            0                 0  \n1553010026033430532          27            4                 0  ",
      "text/html": "<div>\n<style scoped>\n    .dataframe tbody tr th:only-of-type {\n        vertical-align: middle;\n    }\n\n    .dataframe tbody tr th {\n        vertical-align: top;\n    }\n\n    .dataframe thead th {\n        text-align: right;\n    }\n</style>\n<table border=\"1\" class=\"dataframe\">\n  <thead>\n    <tr style=\"text-align: right;\">\n      <th></th>\n      <th>created_at</th>\n      <th>text</th>\n      <th>in_reply_to_status_id</th>\n      <th>retweet_count</th>\n      <th>reply_count</th>\n      <th>like_count</th>\n      <th>quote_count</th>\n      <th>impression_count</th>\n    </tr>\n    <tr>\n      <th>id</th>\n      <th></th>\n      <th></th>\n      <th></th>\n      <th></th>\n      <th></th>\n      <th></th>\n      <th></th>\n      <th></th>\n    </tr>\n  </thead>\n  <tbody>\n    <tr>\n      <th>1554459535447826435</th>\n      <td>2022-08-02 13:30:08+00:00</td>\n      <td>My first money made online came from a $0 prod...</td>\n      <td>None</td>\n      <td>4</td>\n      <td>9</td>\n      <td>44</td>\n      <td>3</td>\n      <td>0</td>\n    </tr>\n    <tr>\n      <th>1553372406303055878</th>\n      <td>2022-07-30 13:30:16+00:00</td>\n      <td>What's the best tweet you wrote this week? 👀\\n...</td>\n      <td>None</td>\n      <td>0</td>\n      <td>6</td>\n      <td>6</td>\n      <td>0</td>\n      <td>0</td>\n    </tr>\n    <tr>\n      <th>1553010026033430532</th>\n      <td>2022-07-29 13:30:18+00:00</td>\n      <td>Growing on Twitter becomes easier after your f...</td>\n      <td>None</td>\n      <td>1</td>\n      <td>8</td>\n      <td>27</td>\n      <td>4</td>\n      <td>0</td>\n    </tr>\n  </tbody>\n</table>\n</div>"
     },
     "execution_count": 141,
     "metadata": {},
     "output_type": "execute_result"
    }
   ],
   "source": [
    "df_thread"
   ],
   "metadata": {
    "collapsed": false
   }
  },
  {
   "cell_type": "markdown",
   "source": [
    "Add df_thread to df_all"
   ],
   "metadata": {
    "collapsed": false
   }
  },
  {
   "cell_type": "code",
   "execution_count": 477,
   "outputs": [
    {
     "name": "stderr",
     "output_type": "stream",
     "text": [
      "/tmp/ipykernel_25213/1404768436.py:1: FutureWarning: The frame.append method is deprecated and will be removed from pandas in a future version. Use pandas.concat instead.\n",
      "  df_all = df_all.append(df_thread)\n"
     ]
    }
   ],
   "source": [
    "df_all = df_all.append(df_thread)"
   ],
   "metadata": {
    "collapsed": false
   }
  },
  {
   "cell_type": "code",
   "execution_count": 460,
   "outputs": [],
   "source": [
    "# df_all = df_thread.copy()"
   ],
   "metadata": {
    "collapsed": false
   }
  },
  {
   "cell_type": "code",
   "execution_count": 478,
   "outputs": [
    {
     "data": {
      "text/plain": "                                   created_at  \\\nid                                              \n1552285211458736128 2022-07-27 13:30:09+00:00   \n1551205611911651329 2022-07-24 14:00:12+00:00   \n1550480849497477120 2022-07-22 14:00:15+00:00   \n1550400324812292096 2022-07-22 08:40:17+00:00   \n1550118442195230722 2022-07-21 14:00:11+00:00   \n...                                       ...   \n1468686902840774671 2021-12-08 21:00:19+00:00   \n1468217057049202688 2021-12-07 13:53:19+00:00   \n1467107750773669889 2021-12-04 12:25:19+00:00   \n1466928275490582530 2021-12-04 00:32:09+00:00   \n1466703155404722183 2021-12-03 09:37:36+00:00   \n\n                                                                  text  \\\nid                                                                       \n1552285211458736128  The greatest productivity app of ALL TIME:\\n\\n...   \n1551205611911651329  I saw a guy ask his audience, \"What’s the best...   \n1550480849497477120  What's my goal?\\n\\n1. Building an online busin...   \n1550400324812292096  @NotionHQ super users:\\n\\nIs there are way to ...   \n1550118442195230722  Twitter is a goldmine of knowledge.\\n\\nBut 97....   \n...                                                                ...   \n1468686902840774671  Are you ready for a new @NotionHQ Template?\\n\\...   \n1468217057049202688  🚀 I'm 23 years old and I just launched my firs...   \n1467107750773669889  ⚠️ LAUNCH ALERT ⚠️\\n\\nMy first-ever template:\\...   \n1466928275490582530  I have 5 years of #sales experience from diffe...   \n1466703155404722183  One week ago, I jumped straight into becoming ...   \n\n                    in_reply_to_status_id  retweet_count  reply_count  \\\nid                                                                      \n1552285211458736128                  None             19           14   \n1551205611911651329                  None              7            5   \n1550480849497477120                  None              0            8   \n1550400324812292096                  None              0            2   \n1550118442195230722                  None              1            3   \n...                                   ...            ...          ...   \n1468686902840774671                  None              2            4   \n1468217057049202688                  None              0            2   \n1467107750773669889                  None             13            3   \n1466928275490582530                  None              1            1   \n1466703155404722183                  None              0            1   \n\n                     like_count  quote_count  impression_count  \nid                                                              \n1552285211458736128         214           11                 0  \n1551205611911651329          21            1                 0  \n1550480849497477120          28            0                 0  \n1550400324812292096           3            0                 0  \n1550118442195230722          13            0                 0  \n...                         ...          ...               ...  \n1468686902840774671           7            0                 0  \n1468217057049202688           8            0                 0  \n1467107750773669889          25            4                 0  \n1466928275490582530           1            0                 0  \n1466703155404722183           2            0                 0  \n\n[91 rows x 8 columns]",
      "text/html": "<div>\n<style scoped>\n    .dataframe tbody tr th:only-of-type {\n        vertical-align: middle;\n    }\n\n    .dataframe tbody tr th {\n        vertical-align: top;\n    }\n\n    .dataframe thead th {\n        text-align: right;\n    }\n</style>\n<table border=\"1\" class=\"dataframe\">\n  <thead>\n    <tr style=\"text-align: right;\">\n      <th></th>\n      <th>created_at</th>\n      <th>text</th>\n      <th>in_reply_to_status_id</th>\n      <th>retweet_count</th>\n      <th>reply_count</th>\n      <th>like_count</th>\n      <th>quote_count</th>\n      <th>impression_count</th>\n    </tr>\n    <tr>\n      <th>id</th>\n      <th></th>\n      <th></th>\n      <th></th>\n      <th></th>\n      <th></th>\n      <th></th>\n      <th></th>\n      <th></th>\n    </tr>\n  </thead>\n  <tbody>\n    <tr>\n      <th>1552285211458736128</th>\n      <td>2022-07-27 13:30:09+00:00</td>\n      <td>The greatest productivity app of ALL TIME:\\n\\n...</td>\n      <td>None</td>\n      <td>19</td>\n      <td>14</td>\n      <td>214</td>\n      <td>11</td>\n      <td>0</td>\n    </tr>\n    <tr>\n      <th>1551205611911651329</th>\n      <td>2022-07-24 14:00:12+00:00</td>\n      <td>I saw a guy ask his audience, \"What’s the best...</td>\n      <td>None</td>\n      <td>7</td>\n      <td>5</td>\n      <td>21</td>\n      <td>1</td>\n      <td>0</td>\n    </tr>\n    <tr>\n      <th>1550480849497477120</th>\n      <td>2022-07-22 14:00:15+00:00</td>\n      <td>What's my goal?\\n\\n1. Building an online busin...</td>\n      <td>None</td>\n      <td>0</td>\n      <td>8</td>\n      <td>28</td>\n      <td>0</td>\n      <td>0</td>\n    </tr>\n    <tr>\n      <th>1550400324812292096</th>\n      <td>2022-07-22 08:40:17+00:00</td>\n      <td>@NotionHQ super users:\\n\\nIs there are way to ...</td>\n      <td>None</td>\n      <td>0</td>\n      <td>2</td>\n      <td>3</td>\n      <td>0</td>\n      <td>0</td>\n    </tr>\n    <tr>\n      <th>1550118442195230722</th>\n      <td>2022-07-21 14:00:11+00:00</td>\n      <td>Twitter is a goldmine of knowledge.\\n\\nBut 97....</td>\n      <td>None</td>\n      <td>1</td>\n      <td>3</td>\n      <td>13</td>\n      <td>0</td>\n      <td>0</td>\n    </tr>\n    <tr>\n      <th>...</th>\n      <td>...</td>\n      <td>...</td>\n      <td>...</td>\n      <td>...</td>\n      <td>...</td>\n      <td>...</td>\n      <td>...</td>\n      <td>...</td>\n    </tr>\n    <tr>\n      <th>1468686902840774671</th>\n      <td>2021-12-08 21:00:19+00:00</td>\n      <td>Are you ready for a new @NotionHQ Template?\\n\\...</td>\n      <td>None</td>\n      <td>2</td>\n      <td>4</td>\n      <td>7</td>\n      <td>0</td>\n      <td>0</td>\n    </tr>\n    <tr>\n      <th>1468217057049202688</th>\n      <td>2021-12-07 13:53:19+00:00</td>\n      <td>🚀 I'm 23 years old and I just launched my firs...</td>\n      <td>None</td>\n      <td>0</td>\n      <td>2</td>\n      <td>8</td>\n      <td>0</td>\n      <td>0</td>\n    </tr>\n    <tr>\n      <th>1467107750773669889</th>\n      <td>2021-12-04 12:25:19+00:00</td>\n      <td>⚠️ LAUNCH ALERT ⚠️\\n\\nMy first-ever template:\\...</td>\n      <td>None</td>\n      <td>13</td>\n      <td>3</td>\n      <td>25</td>\n      <td>4</td>\n      <td>0</td>\n    </tr>\n    <tr>\n      <th>1466928275490582530</th>\n      <td>2021-12-04 00:32:09+00:00</td>\n      <td>I have 5 years of #sales experience from diffe...</td>\n      <td>None</td>\n      <td>1</td>\n      <td>1</td>\n      <td>1</td>\n      <td>0</td>\n      <td>0</td>\n    </tr>\n    <tr>\n      <th>1466703155404722183</th>\n      <td>2021-12-03 09:37:36+00:00</td>\n      <td>One week ago, I jumped straight into becoming ...</td>\n      <td>None</td>\n      <td>0</td>\n      <td>1</td>\n      <td>2</td>\n      <td>0</td>\n      <td>0</td>\n    </tr>\n  </tbody>\n</table>\n<p>91 rows × 8 columns</p>\n</div>"
     },
     "execution_count": 478,
     "metadata": {},
     "output_type": "execute_result"
    }
   ],
   "source": [
    "df_all"
   ],
   "metadata": {
    "collapsed": false
   }
  },
  {
   "cell_type": "code",
   "execution_count": 479,
   "outputs": [],
   "source": [
    "df_all.to_csv(\"../data/01_raw/all_threads_v1_1.csv\", index=True)"
   ],
   "metadata": {
    "collapsed": false
   }
  },
  {
   "cell_type": "markdown",
   "source": [
    "Transform Links into hooks:"
   ],
   "metadata": {
    "collapsed": false
   }
  },
  {
   "cell_type": "code",
   "execution_count": 109,
   "outputs": [],
   "source": [
    "df = pd.read_csv(\"../data/01_raw/IAmPascio_all_threads_v1_1.csv\")\n",
    "client = tweepy.Client(bearer_token)"
   ],
   "metadata": {
    "collapsed": false
   }
  },
  {
   "cell_type": "code",
   "execution_count": 116,
   "outputs": [],
   "source": [
    "tweets = client.get_tweets(list(df['id'].values), tweet_fields=\"id,created_at,text,conversation_id,in_reply_to_user_id,public_metrics\")"
   ],
   "metadata": {
    "collapsed": false
   }
  },
  {
   "cell_type": "code",
   "execution_count": 126,
   "outputs": [],
   "source": [
    "full_texts = [el.text for el in tweets[0]]"
   ],
   "metadata": {
    "collapsed": false
   }
  },
  {
   "cell_type": "code",
   "execution_count": 129,
   "outputs": [],
   "source": [
    "df[\"text\"] =full_texts"
   ],
   "metadata": {
    "collapsed": false
   }
  },
  {
   "cell_type": "code",
   "execution_count": 131,
   "outputs": [],
   "source": [
    "df.to_csv(\"../data/01_raw/IAmPascio_all_threads_v1_1.csv\", index=False)"
   ],
   "metadata": {
    "collapsed": false
   }
  },
  {
   "cell_type": "code",
   "execution_count": null,
   "outputs": [],
   "source": [],
   "metadata": {
    "collapsed": false
   }
  }
 ],
 "metadata": {
  "kernelspec": {
   "display_name": "Python 3",
   "language": "python",
   "name": "python3"
  },
  "language_info": {
   "codemirror_mode": {
    "name": "ipython",
    "version": 2
   },
   "file_extension": ".py",
   "mimetype": "text/x-python",
   "name": "python",
   "nbconvert_exporter": "python",
   "pygments_lexer": "ipython2",
   "version": "2.7.6"
  }
 },
 "nbformat": 4,
 "nbformat_minor": 0
}
