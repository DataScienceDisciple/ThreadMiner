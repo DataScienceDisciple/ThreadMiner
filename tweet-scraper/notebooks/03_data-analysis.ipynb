{
 "cells": [
  {
   "cell_type": "code",
   "execution_count": 1,
   "metadata": {
    "collapsed": true
   },
   "outputs": [],
   "source": [
    "import glob\n",
    "import pandas as pd\n",
    "import plotly.express as px\n",
    "from pathlib import Path"
   ]
  },
  {
   "cell_type": "code",
   "execution_count": 2,
   "outputs": [],
   "source": [
    "def merge_csvs_into_df(path: Path) -> pd.DataFrame:\n",
    "    files = glob.glob((path / \"*csv\").as_posix())\n",
    "    df_list = []\n",
    "    for file in files:\n",
    "        df_list.append(pd.read_csv(file, usecols=[\"id\", \"created_at\", \"text\", \"retweet_count\", \"reply_count\", \"like_count\", \"quote_count\", \"impression_count\"], dtype={\"id\": str, \"created_at\": str, \"text\": str, \"retweet_count\": int, \"reply_count\": int, \"like_count\": int, \"quote_count\": int, \"impression_count\": int}, parse_dates=[\"created_at\"]))\n",
    "    df = pd.concat(df_list)\n",
    "    return df"
   ],
   "metadata": {
    "collapsed": false
   }
  },
  {
   "cell_type": "markdown",
   "source": [
    "## Thread analysis"
   ],
   "metadata": {
    "collapsed": false
   }
  },
  {
   "cell_type": "markdown",
   "source": [
    "### Prepare data"
   ],
   "metadata": {
    "collapsed": false
   }
  },
  {
   "cell_type": "code",
   "execution_count": 6,
   "outputs": [],
   "source": [
    "thread_path = Path(\"..\") / \"data\" / \"01_raw\" / \"IAmPascio\" / \"threads.csv\""
   ],
   "metadata": {
    "collapsed": false
   }
  },
  {
   "cell_type": "code",
   "execution_count": 7,
   "outputs": [],
   "source": [
    "df_threads = pd.read_csv(thread_path.as_posix(),\n",
    "                         dtype={\"id\": str, \"created_at\": str, \"text\": str, \"retweet_count\": int, \"reply_count\": int, \"like_count\": int, \"quote_count\": int, \"impression_count\": int}, parse_dates=[\"created_at\"])"
   ],
   "metadata": {
    "collapsed": false
   }
  },
  {
   "cell_type": "code",
   "execution_count": 9,
   "outputs": [],
   "source": [
    "thread_week = df_threads.resample(\"W-Mon\", on=\"created_at\").agg({\"id\": [\"count\"],\n",
    "                                                                       \"retweet_count\": [\"mean\", \"sum\"],\n",
    "                                                                       \"reply_count\": [\"mean\", \"sum\"],\n",
    "                                                                       \"like_count\": [\"mean\", \"sum\"],\n",
    "                                                                       \"quote_count\": [\"mean\", \"sum\"],\n",
    "                                                                       \"impression_count\": [\"mean\", \"sum\"]\n",
    "                                                                       })\n",
    "thread_week.columns = [' '.join(col).strip() for col in thread_week.columns.values]"
   ],
   "metadata": {
    "collapsed": false
   }
  },
  {
   "cell_type": "markdown",
   "source": [
    "### The number of threads per week"
   ],
   "metadata": {
    "collapsed": false
   }
  },
  {
   "cell_type": "code",
   "execution_count": 29,
   "outputs": [],
   "source": [
    "fig_thread_num = px.area(x=thread_week.index, y=thread_week[\"id count\"])\n",
    "\n",
    "fig_thread_num.update_layout(title={\n",
    "                                    'text': \"Number of threads per week\",\n",
    "                                    'x':0.5,\n",
    "                                    'xanchor': 'center',\n",
    "                                    'yanchor': 'top',\n",
    "                                    \"font\":{\"size\": 24}},\n",
    "                             xaxis_title={\"text\": \"Time\",\n",
    "                                          \"font\":{\"size\": 16}},\n",
    "                             yaxis_title={\"text\": \"Number of threads\",\n",
    "                                          \"font\":{\"size\": 16}},\n",
    "                            width=900,\n",
    "                            height=500,\n",
    "                            template=\"plotly_white\"\n",
    ")\n",
    "\n",
    "fig_thread_num.write_image((Path(\"..\") / \"data\" / \"08_reporting\" / \"thread_numbers.png\").as_posix())"
   ],
   "metadata": {
    "collapsed": false
   }
  },
  {
   "cell_type": "markdown",
   "source": [
    "### Average engagement per week (likes, quotes, retweets, impressions)"
   ],
   "metadata": {
    "collapsed": false
   }
  },
  {
   "cell_type": "markdown",
   "source": [
    "#### Likes"
   ],
   "metadata": {
    "collapsed": false
   }
  },
  {
   "cell_type": "code",
   "execution_count": 42,
   "outputs": [],
   "source": [
    "fig_avg_like = px.area(x=thread_week.index, y=thread_week[\"like_count mean\"], log_y=True)\n",
    "\n",
    "fig_avg_like.update_layout(title={\n",
    "                                    'text': \"Average thread likes per week (log scale)\",\n",
    "                                    'x':0.5,\n",
    "                                    'xanchor': 'center',\n",
    "                                    'yanchor': 'top',\n",
    "                                    \"font\":{\"size\": 24}},\n",
    "                             xaxis_title={\"text\": \"Time\",\n",
    "                                          \"font\":{\"size\": 16}},\n",
    "                             yaxis_title={\"text\": \"Avg likes\",\n",
    "                                          \"font\":{\"size\": 16}},\n",
    "                            width=900,\n",
    "                            height=500,\n",
    "                            template=\"plotly_white\"\n",
    ")\n",
    "\n",
    "fig_avg_like.write_image((Path(\"..\") / \"data\" / \"08_reporting\" / \"avg_likes_log.png\").as_posix())"
   ],
   "metadata": {
    "collapsed": false
   }
  },
  {
   "cell_type": "code",
   "execution_count": 41,
   "outputs": [],
   "source": [
    "fig_avg_like = px.area(x=thread_week.index, y=thread_week[\"like_count mean\"])\n",
    "\n",
    "fig_avg_like.update_layout(title={\n",
    "                                    'text': \"Average thread likes per week\",\n",
    "                                    'x':0.5,\n",
    "                                    'xanchor': 'center',\n",
    "                                    'yanchor': 'top',\n",
    "                                    \"font\":{\"size\": 24}},\n",
    "                             xaxis_title={\"text\": \"Time\",\n",
    "                                          \"font\":{\"size\": 16}},\n",
    "                             yaxis_title={\"text\": \"Avg likes\",\n",
    "                                          \"font\":{\"size\": 16}},\n",
    "                            width=900,\n",
    "                            height=500,\n",
    "                            template=\"plotly_white\"\n",
    ")\n",
    "\n",
    "fig_avg_like.write_image((Path(\"..\") / \"data\" / \"08_reporting\" / \"avg_likes.png\").as_posix())"
   ],
   "metadata": {
    "collapsed": false
   }
  },
  {
   "cell_type": "markdown",
   "source": [
    "#### quotes"
   ],
   "metadata": {
    "collapsed": false
   }
  },
  {
   "cell_type": "code",
   "execution_count": 45,
   "outputs": [],
   "source": [
    "fig_avg_like = px.area(x=thread_week.index, y=thread_week[\"quote_count mean\"])\n",
    "\n",
    "fig_avg_like.update_layout(title={\n",
    "                                    'text': \"Average thread quotes per week\",\n",
    "                                    'x':0.5,\n",
    "                                    'xanchor': 'center',\n",
    "                                    'yanchor': 'top',\n",
    "                                    \"font\":{\"size\": 24}},\n",
    "                             xaxis_title={\"text\": \"Time\",\n",
    "                                          \"font\":{\"size\": 16}},\n",
    "                             yaxis_title={\"text\": \"Avg quotes\",\n",
    "                                          \"font\":{\"size\": 16}},\n",
    "                            width=900,\n",
    "                            height=500,\n",
    "                            template=\"plotly_white\"\n",
    ")\n",
    "\n",
    "fig_avg_like.write_image((Path(\"..\") / \"data\" / \"08_reporting\" / \"avg_quote.png\").as_posix())"
   ],
   "metadata": {
    "collapsed": false
   }
  },
  {
   "cell_type": "markdown",
   "source": [
    "#### retweets"
   ],
   "metadata": {
    "collapsed": false
   }
  },
  {
   "cell_type": "code",
   "execution_count": 46,
   "outputs": [],
   "source": [
    "fig_avg_like = px.area(x=thread_week.index, y=thread_week[\"retweet_count mean\"])\n",
    "\n",
    "fig_avg_like.update_layout(title={\n",
    "                                    'text': \"Average thread retweets per week\",\n",
    "                                    'x':0.5,\n",
    "                                    'xanchor': 'center',\n",
    "                                    'yanchor': 'top',\n",
    "                                    \"font\":{\"size\": 24}},\n",
    "                             xaxis_title={\"text\": \"Time\",\n",
    "                                          \"font\":{\"size\": 16}},\n",
    "                             yaxis_title={\"text\": \"Avg retweets\",\n",
    "                                          \"font\":{\"size\": 16}},\n",
    "                            width=900,\n",
    "                            height=500,\n",
    "                            template=\"plotly_white\"\n",
    ")\n",
    "\n",
    "fig_avg_like.write_image((Path(\"..\") / \"data\" / \"08_reporting\" / \"avg_retweet.png\").as_posix())"
   ],
   "metadata": {
    "collapsed": false
   }
  },
  {
   "cell_type": "code",
   "execution_count": 47,
   "outputs": [],
   "source": [
    "fig_avg_like = px.area(x=thread_week.index, y=thread_week[\"retweet_count mean\"], log_y=True)\n",
    "\n",
    "fig_avg_like.update_layout(title={\n",
    "                                    'text': \"Average thread retweets per week (log scale)\",\n",
    "                                    'x':0.5,\n",
    "                                    'xanchor': 'center',\n",
    "                                    'yanchor': 'top',\n",
    "                                    \"font\":{\"size\": 24}},\n",
    "                             xaxis_title={\"text\": \"Time\",\n",
    "                                          \"font\":{\"size\": 16}},\n",
    "                             yaxis_title={\"text\": \"Avg retweets\",\n",
    "                                          \"font\":{\"size\": 16}},\n",
    "                            width=900,\n",
    "                            height=500,\n",
    "                            template=\"plotly_white\"\n",
    ")\n",
    "\n",
    "fig_avg_like.write_image((Path(\"..\") / \"data\" / \"08_reporting\" / \"avg_retweet_log.png\").as_posix())"
   ],
   "metadata": {
    "collapsed": false
   }
  },
  {
   "cell_type": "markdown",
   "source": [
    "#### impressions"
   ],
   "metadata": {
    "collapsed": false
   }
  },
  {
   "cell_type": "code",
   "execution_count": 48,
   "outputs": [],
   "source": [
    "fig_avg_like = px.area(x=thread_week.index, y=thread_week[\"impression_count mean\"])\n",
    "\n",
    "fig_avg_like.update_layout(title={\n",
    "                                    'text': \"Average thread impressions per week\",\n",
    "                                    'x':0.5,\n",
    "                                    'xanchor': 'center',\n",
    "                                    'yanchor': 'top',\n",
    "                                    \"font\":{\"size\": 24}},\n",
    "                             xaxis_title={\"text\": \"Time\",\n",
    "                                          \"font\":{\"size\": 16}},\n",
    "                             yaxis_title={\"text\": \"Avg impressions\",\n",
    "                                          \"font\":{\"size\": 16}},\n",
    "                            width=900,\n",
    "                            height=500,\n",
    "                            template=\"plotly_white\"\n",
    ")\n",
    "\n",
    "fig_avg_like.write_image((Path(\"..\") / \"data\" / \"08_reporting\" / \"avg_impressions.png\").as_posix())"
   ],
   "metadata": {
    "collapsed": false
   }
  },
  {
   "cell_type": "code",
   "execution_count": 49,
   "outputs": [],
   "source": [
    "fig_avg_like = px.area(x=thread_week.index, y=thread_week[\"impression_count mean\"], log_y=True)\n",
    "\n",
    "fig_avg_like.update_layout(title={\n",
    "                                    'text': \"Average thread impressions per week (log scale)\",\n",
    "                                    'x':0.5,\n",
    "                                    'xanchor': 'center',\n",
    "                                    'yanchor': 'top',\n",
    "                                    \"font\":{\"size\": 24}},\n",
    "                             xaxis_title={\"text\": \"Time\",\n",
    "                                          \"font\":{\"size\": 16}},\n",
    "                             yaxis_title={\"text\": \"Avg impressions\",\n",
    "                                          \"font\":{\"size\": 16}},\n",
    "                            width=900,\n",
    "                            height=500,\n",
    "                            template=\"plotly_white\"\n",
    ")\n",
    "\n",
    "fig_avg_like.write_image((Path(\"..\") / \"data\" / \"08_reporting\" / \"avg_impressions_log.png\").as_posix())"
   ],
   "metadata": {
    "collapsed": false
   }
  },
  {
   "cell_type": "markdown",
   "source": [
    "### Most viral threads"
   ],
   "metadata": {
    "collapsed": false
   }
  },
  {
   "cell_type": "code",
   "execution_count": 55,
   "outputs": [
    {
     "data": {
      "text/plain": "                      id                created_at  \\\n64   1589890468594167809 2022-11-08 08:00:01+00:00   \n21   1612434013393948677 2023-01-09 13:00:01+00:00   \n47   1597863000697733120 2022-11-30 08:00:00+00:00   \n41   1601554825778319360 2022-12-10 12:30:00+00:00   \n0    1618881501025943553 2023-01-27 08:00:01+00:00   \n..                   ...                       ...   \n142  1476750993245278215 2021-12-31 03:04:08+00:00   \n149  1466703155404722183 2021-12-03 09:37:36+00:00   \n135  1484601764338884612 2022-01-21 19:00:17+00:00   \n132  1486625054666469383 2022-01-27 09:00:07+00:00   \n148  1466928275490582530 2021-12-04 00:32:09+00:00   \n\n                                                  text  retweet_count  \\\n64   16 year old kids are making $300,000/month wit...           3968   \n21   ChatGPT is a FREE employee.\\n\\nBut most people...           3660   \n47   Kids are making $20,000/month with no-code.\\n\\...           3075   \n41   21 year olds are making $125,000/month using o...           2196   \n0    ChatGPT is the future.\\n\\nBut most people are ...           2220   \n..                                                 ...            ...   \n142  Here's a curated list of 3 high quality must-f...              0   \n149  One week ago, I jumped straight into becoming ...              0   \n135  I gathered the best ressources for your Notion...              0   \n132            3 𝗡𝗼𝘁𝗶𝗼𝗻 𝗛𝗮𝗰𝗸𝘀 (𝗔 𝗡𝗼𝘁𝗶𝗼𝗻 𝗖𝗵𝗲𝗮𝘁 𝗦𝗵𝗲𝗲𝘁) 👇              2   \n148  I have 5 years of #sales experience from diffe...              1   \n\n     reply_count  like_count  quote_count  impression_count  \n64           627       17285          120                 0  \n21           387       15464           92           1747071  \n47           299       12721           47                 0  \n41           378        9329           47                 0  \n0            199        8139           36            659137  \n..           ...         ...          ...               ...  \n142            2           2            1                 0  \n149            1           2            0                 0  \n135            1           1            0                 0  \n132            1           1            0                 0  \n148            1           1            0                 0  \n\n[150 rows x 8 columns]",
      "text/html": "<div>\n<style scoped>\n    .dataframe tbody tr th:only-of-type {\n        vertical-align: middle;\n    }\n\n    .dataframe tbody tr th {\n        vertical-align: top;\n    }\n\n    .dataframe thead th {\n        text-align: right;\n    }\n</style>\n<table border=\"1\" class=\"dataframe\">\n  <thead>\n    <tr style=\"text-align: right;\">\n      <th></th>\n      <th>id</th>\n      <th>created_at</th>\n      <th>text</th>\n      <th>retweet_count</th>\n      <th>reply_count</th>\n      <th>like_count</th>\n      <th>quote_count</th>\n      <th>impression_count</th>\n    </tr>\n  </thead>\n  <tbody>\n    <tr>\n      <th>64</th>\n      <td>1589890468594167809</td>\n      <td>2022-11-08 08:00:01+00:00</td>\n      <td>16 year old kids are making $300,000/month wit...</td>\n      <td>3968</td>\n      <td>627</td>\n      <td>17285</td>\n      <td>120</td>\n      <td>0</td>\n    </tr>\n    <tr>\n      <th>21</th>\n      <td>1612434013393948677</td>\n      <td>2023-01-09 13:00:01+00:00</td>\n      <td>ChatGPT is a FREE employee.\\n\\nBut most people...</td>\n      <td>3660</td>\n      <td>387</td>\n      <td>15464</td>\n      <td>92</td>\n      <td>1747071</td>\n    </tr>\n    <tr>\n      <th>47</th>\n      <td>1597863000697733120</td>\n      <td>2022-11-30 08:00:00+00:00</td>\n      <td>Kids are making $20,000/month with no-code.\\n\\...</td>\n      <td>3075</td>\n      <td>299</td>\n      <td>12721</td>\n      <td>47</td>\n      <td>0</td>\n    </tr>\n    <tr>\n      <th>41</th>\n      <td>1601554825778319360</td>\n      <td>2022-12-10 12:30:00+00:00</td>\n      <td>21 year olds are making $125,000/month using o...</td>\n      <td>2196</td>\n      <td>378</td>\n      <td>9329</td>\n      <td>47</td>\n      <td>0</td>\n    </tr>\n    <tr>\n      <th>0</th>\n      <td>1618881501025943553</td>\n      <td>2023-01-27 08:00:01+00:00</td>\n      <td>ChatGPT is the future.\\n\\nBut most people are ...</td>\n      <td>2220</td>\n      <td>199</td>\n      <td>8139</td>\n      <td>36</td>\n      <td>659137</td>\n    </tr>\n    <tr>\n      <th>...</th>\n      <td>...</td>\n      <td>...</td>\n      <td>...</td>\n      <td>...</td>\n      <td>...</td>\n      <td>...</td>\n      <td>...</td>\n      <td>...</td>\n    </tr>\n    <tr>\n      <th>142</th>\n      <td>1476750993245278215</td>\n      <td>2021-12-31 03:04:08+00:00</td>\n      <td>Here's a curated list of 3 high quality must-f...</td>\n      <td>0</td>\n      <td>2</td>\n      <td>2</td>\n      <td>1</td>\n      <td>0</td>\n    </tr>\n    <tr>\n      <th>149</th>\n      <td>1466703155404722183</td>\n      <td>2021-12-03 09:37:36+00:00</td>\n      <td>One week ago, I jumped straight into becoming ...</td>\n      <td>0</td>\n      <td>1</td>\n      <td>2</td>\n      <td>0</td>\n      <td>0</td>\n    </tr>\n    <tr>\n      <th>135</th>\n      <td>1484601764338884612</td>\n      <td>2022-01-21 19:00:17+00:00</td>\n      <td>I gathered the best ressources for your Notion...</td>\n      <td>0</td>\n      <td>1</td>\n      <td>1</td>\n      <td>0</td>\n      <td>0</td>\n    </tr>\n    <tr>\n      <th>132</th>\n      <td>1486625054666469383</td>\n      <td>2022-01-27 09:00:07+00:00</td>\n      <td>3 𝗡𝗼𝘁𝗶𝗼𝗻 𝗛𝗮𝗰𝗸𝘀 (𝗔 𝗡𝗼𝘁𝗶𝗼𝗻 𝗖𝗵𝗲𝗮𝘁 𝗦𝗵𝗲𝗲𝘁) 👇</td>\n      <td>2</td>\n      <td>1</td>\n      <td>1</td>\n      <td>0</td>\n      <td>0</td>\n    </tr>\n    <tr>\n      <th>148</th>\n      <td>1466928275490582530</td>\n      <td>2021-12-04 00:32:09+00:00</td>\n      <td>I have 5 years of #sales experience from diffe...</td>\n      <td>1</td>\n      <td>1</td>\n      <td>1</td>\n      <td>0</td>\n      <td>0</td>\n    </tr>\n  </tbody>\n</table>\n<p>150 rows × 8 columns</p>\n</div>"
     },
     "execution_count": 55,
     "metadata": {},
     "output_type": "execute_result"
    }
   ],
   "source": [
    "df_threads.sort_values(by=\"like_count\", ascending=False)"
   ],
   "metadata": {
    "collapsed": false
   }
  },
  {
   "cell_type": "markdown",
   "source": [
    "### Comparing threads between Jun-Nov 2022 and Nov 2022 - Jan 2023"
   ],
   "metadata": {
    "collapsed": false
   }
  },
  {
   "cell_type": "code",
   "execution_count": 70,
   "outputs": [],
   "source": [
    "thread_period_1 = df_threads[(df_threads[\"created_at\"] >= \"2022-06-01\") & (df_threads[\"created_at\"] < \"2022-11-01\")].reset_index(drop=True).loc[:, [\"text\", \"id\"]]\n",
    "thread_period_2 = df_threads[df_threads[\"created_at\"] >= \"2022-11-01\"].reset_index(drop=True).loc[:, [\"text\", \"id\"]]"
   ],
   "metadata": {
    "collapsed": false
   }
  },
  {
   "cell_type": "code",
   "execution_count": 71,
   "outputs": [],
   "source": [
    "thread_period_1.to_csv((Path(\"..\") / \"data\" / \"02_intermediate\" / \"threads1.csv\").as_posix())"
   ],
   "metadata": {
    "collapsed": false
   }
  },
  {
   "cell_type": "code",
   "execution_count": 72,
   "outputs": [],
   "source": [
    "thread_period_2.to_csv((Path(\"..\") / \"data\" / \"02_intermediate\" / \"threads2.csv\").as_posix())"
   ],
   "metadata": {
    "collapsed": false
   }
  },
  {
   "cell_type": "markdown",
   "source": [
    "#### Comparing thread categories between Jun-Nov 2022 and Nov 2022 - Jan 2023\n",
    "In order to run the code you need to use thread data from the spreadsheet (threads1, threads2): https://docs.google.com/spreadsheets/d/1O5td_vQY_ofjIaO1jaX2lfA65YLlXbfG3KEzbv0gGFw/edit?usp=sharing"
   ],
   "metadata": {
    "collapsed": false
   }
  },
  {
   "cell_type": "code",
   "execution_count": 130,
   "outputs": [],
   "source": [
    "period_1 = pd.read_csv((Path(\"..\") / \"data\" / \"03_primary\" / \"threads1.csv\").as_posix(), dtype={\"id\":str})\n",
    "period_2 = pd.read_csv((Path(\"..\") / \"data\" / \"03_primary\" / \"threads2.csv\").as_posix(), dtype={\"id\":str})"
   ],
   "metadata": {
    "collapsed": false
   }
  },
  {
   "cell_type": "code",
   "execution_count": 131,
   "outputs": [],
   "source": [
    "period_1 = pd.concat([period_1.set_index(\"id\"), df_threads[(df_threads[\"created_at\"] >= \"2022-06-01\") & (df_threads[\"created_at\"] < \"2022-11-01\")].set_index(\"id\")], axis=1, join=\"inner\").reset_index()\n",
    "period_1[\"period\"] = \"Jul-Nov 2022\"\n",
    "period_2 = pd.concat([period_2.set_index(\"id\"), df_threads[df_threads[\"created_at\"] >= \"2022-11-01\"].set_index(\"id\")], axis=1, join=\"inner\").reset_index()\n",
    "period_2[\"period\"] = \"Nov 2022-present\""
   ],
   "metadata": {
    "collapsed": false
   }
  },
  {
   "cell_type": "code",
   "execution_count": 132,
   "outputs": [],
   "source": [
    "both_periods = pd.concat([period_1, period_2])"
   ],
   "metadata": {
    "collapsed": false
   }
  },
  {
   "cell_type": "code",
   "execution_count": 137,
   "outputs": [],
   "source": [
    "grouped = both_periods.groupby([\"period\", \"type\"]).agg({\"id\": [\"count\"], \"like_count\": [\"mean\"]})"
   ],
   "metadata": {
    "collapsed": false
   }
  },
  {
   "cell_type": "code",
   "execution_count": 139,
   "outputs": [],
   "source": [
    "grouped.columns = [' '.join(col).strip() for col in grouped.columns.values]"
   ],
   "metadata": {
    "collapsed": false
   }
  },
  {
   "cell_type": "code",
   "execution_count": 142,
   "outputs": [],
   "source": [
    "grouped = grouped.reset_index()"
   ],
   "metadata": {
    "collapsed": false
   }
  },
  {
   "cell_type": "code",
   "execution_count": 149,
   "outputs": [],
   "source": [
    "fig = px.histogram(both_periods, x=\"type\", color=\"period\", barmode=\"group\")\n",
    "\n",
    "fig.update_layout(title={\n",
    "                                    'text': \"Number of threads per category and period\",\n",
    "                                    'x':0.5,\n",
    "                                    'xanchor': 'center',\n",
    "                                    'yanchor': 'top',\n",
    "                                    \"font\":{\"size\": 24}},\n",
    "                             xaxis_title={\"text\": \"category\",\n",
    "                                          \"font\":{\"size\": 16}},\n",
    "                             yaxis_title={\"text\": \"count\",\n",
    "                                          \"font\":{\"size\": 16}},\n",
    "                            width=1400,\n",
    "                            height=700,\n",
    "                            template=\"plotly_white\"\n",
    ")\n",
    "\n",
    "fig.write_image((Path(\"..\") / \"data\" / \"08_reporting\" / \"thread_cat_count.png\").as_posix())"
   ],
   "metadata": {
    "collapsed": false
   }
  },
  {
   "cell_type": "code",
   "execution_count": 153,
   "outputs": [],
   "source": [
    "grouped_period_1 = grouped[grouped[\"period\"]==\"Jul-Nov 2022\"]\n",
    "grouped_period_2 = grouped[grouped[\"period\"]==\"Nov 2022-present\"]"
   ],
   "metadata": {
    "collapsed": false
   }
  },
  {
   "cell_type": "code",
   "execution_count": 156,
   "outputs": [],
   "source": [
    "fig = px.bar(grouped_period_1, x=\"type\", y=\"like_count mean\")\n",
    "\n",
    "fig.update_layout(title={\n",
    "                                    'text': \"AVG thread likes per category - Jul-Nov 2022\",\n",
    "                                    'x':0.5,\n",
    "                                    'xanchor': 'center',\n",
    "                                    'yanchor': 'top',\n",
    "                                    \"font\":{\"size\": 24}},\n",
    "                             xaxis_title={\"text\": \"category\",\n",
    "                                          \"font\":{\"size\": 16}},\n",
    "                             yaxis_title={\"text\": \"AVG likes\",\n",
    "                                          \"font\":{\"size\": 16}},\n",
    "                            width=1400,\n",
    "                            height=700,\n",
    "                            template=\"plotly_white\"\n",
    ")\n",
    "\n",
    "fig.write_image((Path(\"..\") / \"data\" / \"08_reporting\" / \"thread_cat_avg_period_1.png\").as_posix())"
   ],
   "metadata": {
    "collapsed": false
   }
  },
  {
   "cell_type": "code",
   "execution_count": 157,
   "outputs": [],
   "source": [
    "fig = px.bar(grouped_period_2, x=\"type\", y=\"like_count mean\")\n",
    "\n",
    "fig.update_layout(title={\n",
    "                                    'text': \"AVG thread likes per category - Nov 2022-present\",\n",
    "                                    'x':0.5,\n",
    "                                    'xanchor': 'center',\n",
    "                                    'yanchor': 'top',\n",
    "                                    \"font\":{\"size\": 24}},\n",
    "                             xaxis_title={\"text\": \"category\",\n",
    "                                          \"font\":{\"size\": 16}},\n",
    "                             yaxis_title={\"text\": \"AVG likes\",\n",
    "                                          \"font\":{\"size\": 16}},\n",
    "                            width=1400,\n",
    "                            height=700,\n",
    "                            template=\"plotly_white\"\n",
    ")\n",
    "\n",
    "fig.write_image((Path(\"..\") / \"data\" / \"08_reporting\" / \"thread_cat_avg_period_2.png\").as_posix())"
   ],
   "metadata": {
    "collapsed": false
   }
  }
 ],
 "metadata": {
  "kernelspec": {
   "display_name": "Python 3",
   "language": "python",
   "name": "python3"
  },
  "language_info": {
   "codemirror_mode": {
    "name": "ipython",
    "version": 2
   },
   "file_extension": ".py",
   "mimetype": "text/x-python",
   "name": "python",
   "nbconvert_exporter": "python",
   "pygments_lexer": "ipython2",
   "version": "2.7.6"
  }
 },
 "nbformat": 4,
 "nbformat_minor": 0
}
