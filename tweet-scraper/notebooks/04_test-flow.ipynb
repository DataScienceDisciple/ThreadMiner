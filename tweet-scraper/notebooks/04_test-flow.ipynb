{
 "cells": [
  {
   "cell_type": "code",
   "execution_count": 3,
   "metadata": {
    "collapsed": true
   },
   "outputs": [],
   "source": [
    "sys.path.append(\"..\")\n",
    "from kedro.config import ConfigLoader"
   ]
  },
  {
   "cell_type": "code",
   "execution_count": 4,
   "outputs": [],
   "source": [
    "from src.service.twitter.user_service import UserService\n",
    "from src.service.twitter.tweet_service import TweetService\n",
    "from src.util.twitter.thread_util import ThreadUtil"
   ],
   "metadata": {
    "collapsed": false
   }
  },
  {
   "cell_type": "code",
   "execution_count": 13,
   "outputs": [],
   "source": [
    "conf_loader = ConfigLoader(\"../conf\", env=\"local\")\n",
    "bearer_token = conf_loader[\"credentials\"][\"twitter_api\"][\"authentication_tokens\"][\"bearer_token\"]\n",
    "username = \"Olearningcurve\"\n"
   ],
   "metadata": {
    "collapsed": false
   }
  },
  {
   "cell_type": "code",
   "execution_count": 14,
   "outputs": [],
   "source": [
    "twitter_user = UserService(bearer_token).get_user(username)"
   ],
   "metadata": {
    "collapsed": false
   }
  },
  {
   "cell_type": "code",
   "execution_count": 18,
   "outputs": [],
   "source": [
    "tweets = TweetService(bearer_token).get_users_available_tweets(twitter_user)"
   ],
   "metadata": {
    "collapsed": false
   }
  },
  {
   "cell_type": "code",
   "execution_count": 21,
   "outputs": [],
   "source": [
    "thread_util = ThreadUtil(twitter_user, tweets)\n",
    "thread_candidates = thread_util.get_users_threads_from_api()"
   ],
   "metadata": {
    "collapsed": false
   }
  },
  {
   "cell_type": "code",
   "execution_count": 22,
   "outputs": [
    {
     "data": {
      "text/plain": "                      id                created_at  \\\n0    1618593916227588097 2023-01-26 12:57:16+00:00   \n1    1618345495495340032 2023-01-25 20:30:08+00:00   \n2    1617927560884785152 2023-01-24 16:49:24+00:00   \n3    1617927558326288387 2023-01-24 16:49:24+00:00   \n4    1617927555985862656 2023-01-24 16:49:23+00:00   \n..                   ...                       ...   \n154  1599134128393232385 2022-12-03 20:11:01+00:00   \n155  1599134126203842560 2022-12-03 20:11:00+00:00   \n156  1599134123888496641 2022-12-03 20:11:00+00:00   \n157  1599134121108070400 2022-12-03 20:10:59+00:00   \n158  1599052045754908672 2022-12-03 14:44:51+00:00   \n\n                                                  text      conversation_id  \\\n0    I want to follow more quality accounts.\\n\\nInt...  1618593916227588097   \n1    Got elevated access to Twitter API. Let the fu...  1618345495495340032   \n2    That's a wrap.\\n\\n1. If you are interested in ...  1617927550587801604   \n3    Based on this research, do the following to en...  1617927550587801604   \n4    The research shows that limiting physical acti...  1617927550587801604   \n..                                                 ...                  ...   \n154  In general, programming puzzles 🧩 are more cle...  1599134121108070400   \n155  Although you can solve the puzzles whenever yo...  1599134121108070400   \n156  Every day from December 1 to 25, there will be...  1599134121108070400   \n157  Are you trying to take your programming 💻 skil...  1599134121108070400   \n158  Another day, another solution! I just publishe...  1599052045754908672   \n\n     retweet_count  reply_count  like_count  quote_count  impression_count  \n0                0            0           0            0                10  \n1                0            0           0            0                24  \n2                0            0           0            0                18  \n3                0            1           0            0                33  \n4                0            1           0            0                 7  \n..             ...          ...         ...          ...               ...  \n154              0            1           1            0                 0  \n155              0            1           1            0                 0  \n156              1            1           2            0                 0  \n157              0            1           4            0                 0  \n158              2            0           4            0                 0  \n\n[159 rows x 9 columns]",
      "text/html": "<div>\n<style scoped>\n    .dataframe tbody tr th:only-of-type {\n        vertical-align: middle;\n    }\n\n    .dataframe tbody tr th {\n        vertical-align: top;\n    }\n\n    .dataframe thead th {\n        text-align: right;\n    }\n</style>\n<table border=\"1\" class=\"dataframe\">\n  <thead>\n    <tr style=\"text-align: right;\">\n      <th></th>\n      <th>id</th>\n      <th>created_at</th>\n      <th>text</th>\n      <th>conversation_id</th>\n      <th>retweet_count</th>\n      <th>reply_count</th>\n      <th>like_count</th>\n      <th>quote_count</th>\n      <th>impression_count</th>\n    </tr>\n  </thead>\n  <tbody>\n    <tr>\n      <th>0</th>\n      <td>1618593916227588097</td>\n      <td>2023-01-26 12:57:16+00:00</td>\n      <td>I want to follow more quality accounts.\\n\\nInt...</td>\n      <td>1618593916227588097</td>\n      <td>0</td>\n      <td>0</td>\n      <td>0</td>\n      <td>0</td>\n      <td>10</td>\n    </tr>\n    <tr>\n      <th>1</th>\n      <td>1618345495495340032</td>\n      <td>2023-01-25 20:30:08+00:00</td>\n      <td>Got elevated access to Twitter API. Let the fu...</td>\n      <td>1618345495495340032</td>\n      <td>0</td>\n      <td>0</td>\n      <td>0</td>\n      <td>0</td>\n      <td>24</td>\n    </tr>\n    <tr>\n      <th>2</th>\n      <td>1617927560884785152</td>\n      <td>2023-01-24 16:49:24+00:00</td>\n      <td>That's a wrap.\\n\\n1. If you are interested in ...</td>\n      <td>1617927550587801604</td>\n      <td>0</td>\n      <td>0</td>\n      <td>0</td>\n      <td>0</td>\n      <td>18</td>\n    </tr>\n    <tr>\n      <th>3</th>\n      <td>1617927558326288387</td>\n      <td>2023-01-24 16:49:24+00:00</td>\n      <td>Based on this research, do the following to en...</td>\n      <td>1617927550587801604</td>\n      <td>0</td>\n      <td>1</td>\n      <td>0</td>\n      <td>0</td>\n      <td>33</td>\n    </tr>\n    <tr>\n      <th>4</th>\n      <td>1617927555985862656</td>\n      <td>2023-01-24 16:49:23+00:00</td>\n      <td>The research shows that limiting physical acti...</td>\n      <td>1617927550587801604</td>\n      <td>0</td>\n      <td>1</td>\n      <td>0</td>\n      <td>0</td>\n      <td>7</td>\n    </tr>\n    <tr>\n      <th>...</th>\n      <td>...</td>\n      <td>...</td>\n      <td>...</td>\n      <td>...</td>\n      <td>...</td>\n      <td>...</td>\n      <td>...</td>\n      <td>...</td>\n      <td>...</td>\n    </tr>\n    <tr>\n      <th>154</th>\n      <td>1599134128393232385</td>\n      <td>2022-12-03 20:11:01+00:00</td>\n      <td>In general, programming puzzles 🧩 are more cle...</td>\n      <td>1599134121108070400</td>\n      <td>0</td>\n      <td>1</td>\n      <td>1</td>\n      <td>0</td>\n      <td>0</td>\n    </tr>\n    <tr>\n      <th>155</th>\n      <td>1599134126203842560</td>\n      <td>2022-12-03 20:11:00+00:00</td>\n      <td>Although you can solve the puzzles whenever yo...</td>\n      <td>1599134121108070400</td>\n      <td>0</td>\n      <td>1</td>\n      <td>1</td>\n      <td>0</td>\n      <td>0</td>\n    </tr>\n    <tr>\n      <th>156</th>\n      <td>1599134123888496641</td>\n      <td>2022-12-03 20:11:00+00:00</td>\n      <td>Every day from December 1 to 25, there will be...</td>\n      <td>1599134121108070400</td>\n      <td>1</td>\n      <td>1</td>\n      <td>2</td>\n      <td>0</td>\n      <td>0</td>\n    </tr>\n    <tr>\n      <th>157</th>\n      <td>1599134121108070400</td>\n      <td>2022-12-03 20:10:59+00:00</td>\n      <td>Are you trying to take your programming 💻 skil...</td>\n      <td>1599134121108070400</td>\n      <td>0</td>\n      <td>1</td>\n      <td>4</td>\n      <td>0</td>\n      <td>0</td>\n    </tr>\n    <tr>\n      <th>158</th>\n      <td>1599052045754908672</td>\n      <td>2022-12-03 14:44:51+00:00</td>\n      <td>Another day, another solution! I just publishe...</td>\n      <td>1599052045754908672</td>\n      <td>2</td>\n      <td>0</td>\n      <td>4</td>\n      <td>0</td>\n      <td>0</td>\n    </tr>\n  </tbody>\n</table>\n<p>159 rows × 9 columns</p>\n</div>"
     },
     "execution_count": 22,
     "metadata": {},
     "output_type": "execute_result"
    }
   ],
   "source": [
    "thread_util.convert_tweets_to_df(thread_candidates)"
   ],
   "metadata": {
    "collapsed": false
   }
  },
  {
   "cell_type": "code",
   "execution_count": null,
   "outputs": [],
   "source": [],
   "metadata": {
    "collapsed": false
   }
  }
 ],
 "metadata": {
  "kernelspec": {
   "display_name": "Python 3",
   "language": "python",
   "name": "python3"
  },
  "language_info": {
   "codemirror_mode": {
    "name": "ipython",
    "version": 2
   },
   "file_extension": ".py",
   "mimetype": "text/x-python",
   "name": "python",
   "nbconvert_exporter": "python",
   "pygments_lexer": "ipython2",
   "version": "2.7.6"
  }
 },
 "nbformat": 4,
 "nbformat_minor": 0
}
